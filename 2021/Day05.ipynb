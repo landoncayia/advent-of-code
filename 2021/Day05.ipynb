{
 "cells": [
  {
   "cell_type": "markdown",
   "id": "411251c2",
   "metadata": {},
   "source": [
    "# Day 5 - Part One\n",
    "\n",
    "For this problem, I took the NumPy approach again. I used a few familiar techniques, and also learned a few new ones including:\n",
    "* `np.add.at`\n",
    "* `np.pad`\n",
    "\n",
    "I solved Part One in a way that will help me out with Part Two, since I could tell that it would involve accounting for diagonals based on the description.\n",
    "\n",
    "This was a fun and engaging exercise - looking forward to Part Two!"
   ]
  },
  {
   "cell_type": "code",
   "execution_count": 1,
   "id": "f78f6cb5",
   "metadata": {},
   "outputs": [],
   "source": [
    "from aocd import get_data\n",
    "import numpy as np\n",
    "raw_data = get_data(day=5, year=2021)"
   ]
  },
  {
   "cell_type": "code",
   "execution_count": 2,
   "id": "45477534",
   "metadata": {},
   "outputs": [],
   "source": [
    "# helper function to expand map in x or y direction with zeroes if needed\n",
    "def expand_map(overlap_map, xs, ys):\n",
    "    # get shape of current map\n",
    "    num_rows, num_cols = overlap_map.shape\n",
    "    curr_x_max, curr_y_max = max(xs), max(ys)\n",
    "    \n",
    "    # check/expand x direction\n",
    "    if num_rows <= curr_x_max:\n",
    "        x_padding = curr_x_max - num_rows + 1\n",
    "        overlap_map = np.pad(overlap_map, ((0, x_padding), (0, 0)), 'constant')\n",
    "    # check/expand y direction\n",
    "    if num_cols <= curr_y_max:\n",
    "        y_padding = curr_y_max - num_cols + 1\n",
    "        overlap_map = np.pad(overlap_map, ((0, 0), (0, y_padding)), 'constant')\n",
    "    \n",
    "    return overlap_map"
   ]
  },
  {
   "cell_type": "code",
   "execution_count": 3,
   "id": "7fe7e720",
   "metadata": {},
   "outputs": [],
   "source": [
    "overlap_map = np.zeros((1,1)).astype('int')\n",
    "vent_lines = raw_data.split('\\n')\n",
    "for line in vent_lines:\n",
    "    pair1, pair2 = [l.strip() for l in line.split('->')]\n",
    "    (x1, y1), (x2, y2) = map(int, pair1.split(',')), map(int, pair2.split(','))\n",
    "    \n",
    "    overlap_map = expand_map(overlap_map, (x1, x2), (y1, y2))\n",
    "    \n",
    "    # if x1 == x2 or y1 == y2, add to overlap map where necessary\n",
    "    if x1 == x2:\n",
    "        vent_line_range_y = range(y1, y2+1) if y1 < y2 else range(y1, y2-1, -1)\n",
    "        np.add.at(overlap_map, (x1, vent_line_range_y), 1)\n",
    "    elif y1 == y2:\n",
    "        vent_line_range_x = range(x1, x2+1) if x1 < x2 else range(x1, x2-1, -1)\n",
    "        np.add.at(overlap_map, (vent_line_range_x, y1), 1)"
   ]
  },
  {
   "cell_type": "code",
   "execution_count": 4,
   "id": "c9495991",
   "metadata": {},
   "outputs": [
    {
     "data": {
      "text/plain": [
       "6841"
      ]
     },
     "execution_count": 4,
     "metadata": {},
     "output_type": "execute_result"
    }
   ],
   "source": [
    "count = (overlap_map >= 2).sum()\n",
    "count"
   ]
  },
  {
   "cell_type": "markdown",
   "id": "411251c2",
   "metadata": {},
   "source": [
    "# Day 5 - Part Two\n",
    "\n",
    "My implementation in Part One proved to be useful in solving part two. I just had to add one additional segment to the code to account for diagonals and handle negative range situations in both directions."
   ]
  },
  {
   "cell_type": "code",
   "execution_count": 5,
   "id": "f78f6cb5",
   "metadata": {},
   "outputs": [],
   "source": [
    "from aocd import get_data\n",
    "import numpy as np\n",
    "raw_data = get_data(day=5, year=2021)"
   ]
  },
  {
   "cell_type": "code",
   "execution_count": 6,
   "id": "17b412db",
   "metadata": {},
   "outputs": [],
   "source": [
    "# helper function to expand map in x or y direction with zeroes if needed\n",
    "def expand_map(overlap_map, xs, ys):\n",
    "    # get shape of current map\n",
    "    num_rows, num_cols = overlap_map.shape\n",
    "    curr_x_max, curr_y_max = max(xs), max(ys)\n",
    "    \n",
    "    # check/expand x direction\n",
    "    if num_rows <= curr_x_max:\n",
    "        x_padding = curr_x_max - num_rows + 1\n",
    "        overlap_map = np.pad(overlap_map, ((0, x_padding), (0, 0)), 'constant')\n",
    "    # check/expand y direction\n",
    "    if num_cols <= curr_y_max:\n",
    "        y_padding = curr_y_max - num_cols + 1\n",
    "        overlap_map = np.pad(overlap_map, ((0, 0), (0, y_padding)), 'constant')\n",
    "    \n",
    "    return overlap_map"
   ]
  },
  {
   "cell_type": "code",
   "execution_count": 7,
   "id": "7fe7e720",
   "metadata": {},
   "outputs": [],
   "source": [
    "overlap_map = np.zeros((1,1)).astype('int')\n",
    "vent_lines = raw_data.split('\\n')\n",
    "for line in vent_lines:\n",
    "    pair1, pair2 = [l.strip() for l in line.split('->')]\n",
    "    (x1, y1), (x2, y2) = map(int, pair1.split(',')), map(int, pair2.split(','))\n",
    "    \n",
    "    overlap_map = expand_map(overlap_map, (x1, x2), (y1, y2))\n",
    "    \n",
    "    # if x1 == x2 or y1 == y2, add to overlap map where necessary\n",
    "    if x1 == x2:\n",
    "        vent_line_range_y = range(y1, y2+1) if y1 < y2 else range(y1, y2-1, -1)\n",
    "        np.add.at(overlap_map, (x1, vent_line_range_y), 1)\n",
    "    elif y1 == y2:\n",
    "        vent_line_range_x = range(x1, x2+1) if x1 < x2 else range(x1, x2-1, -1)\n",
    "        np.add.at(overlap_map, (vent_line_range_x, y1), 1)\n",
    "    else:\n",
    "        vent_line_range_x = range(x1, x2+1) if x1 < x2 else range(x1, x2-1, -1)\n",
    "        vent_line_range_y = range(y1, y2+1) if y1 < y2 else range(y1, y2-1, -1)\n",
    "        np.add.at(overlap_map, (vent_line_range_x, vent_line_range_y), 1)"
   ]
  },
  {
   "cell_type": "code",
   "execution_count": 8,
   "id": "c9495991",
   "metadata": {},
   "outputs": [
    {
     "data": {
      "text/plain": [
       "19258"
      ]
     },
     "execution_count": 8,
     "metadata": {},
     "output_type": "execute_result"
    }
   ],
   "source": [
    "count = (overlap_map >= 2).sum()\n",
    "count"
   ]
  },
  {
   "cell_type": "code",
   "execution_count": null,
   "id": "a3d98500",
   "metadata": {},
   "outputs": [],
   "source": []
  }
 ],
 "metadata": {
  "kernelspec": {
   "display_name": "Python 3 (ipykernel)",
   "language": "python",
   "name": "python3"
  },
  "language_info": {
   "codemirror_mode": {
    "name": "ipython",
    "version": 3
   },
   "file_extension": ".py",
   "mimetype": "text/x-python",
   "name": "python",
   "nbconvert_exporter": "python",
   "pygments_lexer": "ipython3",
   "version": "3.10.0"
  }
 },
 "nbformat": 4,
 "nbformat_minor": 5
}
