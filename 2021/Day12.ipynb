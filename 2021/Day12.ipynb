{
 "cells": [
  {
   "cell_type": "markdown",
   "metadata": {},
   "source": [
    "# Day 12 - Part One"
   ]
  },
  {
   "cell_type": "code",
   "execution_count": 1,
   "metadata": {},
   "outputs": [],
   "source": [
    "from aocd import get_data\n",
    "from collections import defaultdict\n",
    "from string import ascii_uppercase, ascii_lowercase\n",
    "raw_data = get_data(day=12, year=2021)\n",
    "caves = raw_data.split('\\n')\n",
    "\n"
   ]
  },
  {
   "cell_type": "code",
   "execution_count": 9,
   "metadata": {},
   "outputs": [],
   "source": [
    "# Useful constants/functions\n",
    "start, end = 'start', 'end'\n",
    "\n",
    "def can_visit(cave, visits):\n",
    "    # If the cave is large, it can be visited no matter what\n",
    "    if cave.isupper():\n",
    "        return True\n",
    "    \n",
    "    # If the cave is small, it can be visited if its number of visits is less than 1\n",
    "    else:\n",
    "        if visits[cave] < 1:\n",
    "            return True\n",
    "        else:\n",
    "            return False\n",
    "\n",
    "def build_cave_system():\n",
    "    # Build the graph to represent cave structures\n",
    "    # Code from https://www.geeksforgeeks.org/building-an-undirected-graph-and-finding-shortest-path-using-dictionaries-in-python/\n",
    "    connections = [[end for end in conn.split('-')] for conn in caves]\n",
    "    graph = defaultdict(list)\n",
    "    for conn in connections:\n",
    "        a, b = conn[0], conn[1]\n",
    "        graph[a].append(b)\n",
    "        graph[b].append(a)\n",
    "    return graph\n",
    "\n",
    "def reset_visit_tracker():\n",
    "    # This returns a dictionary in the form (key, value) -> (cave, times_visited)\n",
    "    cave_set = set()\n",
    "    all_caves = [[end for end in conn.split('-')] for conn in caves]\n",
    "    for pair in all_caves:\n",
    "        for cave in pair:\n",
    "            cave_set.add(cave)\n",
    "    cave_visits = {c: 0 for c in cave_set}\n",
    "    return cave_visits\n"
   ]
  },
  {
   "cell_type": "code",
   "execution_count": 3,
   "metadata": {},
   "outputs": [],
   "source": [
    "def find_paths(visits, system, cave, num_paths=None):\n",
    "    if num_paths is None:\n",
    "        num_paths = 0\n",
    "    if cave == 'end':\n",
    "        num_paths += 1\n",
    "    # Use a modified version of depth-first search to get all the possible paths\n",
    "    for cave in system[cave]:\n",
    "        if can_visit(cave, visits):\n",
    "            visits[cave] += 1\n",
    "            for neighbor in system[cave]:\n",
    "                if can_visit(cave, visits):\n",
    "                    find_paths(visits, system, neighbor, num_paths)\n",
    "    return num_paths"
   ]
  },
  {
   "cell_type": "code",
   "execution_count": 8,
   "metadata": {},
   "outputs": [],
   "source": [
    "cave_system = build_cave_system()\n",
    "cave_visits = reset_visit_tracker()\n",
    "start_dests = cave_system['start']\n",
    "num_paths = find_paths(cave_visits, cave_system, 'start')"
   ]
  },
  {
   "cell_type": "code",
   "execution_count": 5,
   "metadata": {},
   "outputs": [
    {
     "data": {
      "text/plain": [
       "0"
      ]
     },
     "execution_count": 5,
     "metadata": {},
     "output_type": "execute_result"
    }
   ],
   "source": [
    "num_paths"
   ]
  },
  {
   "cell_type": "code",
   "execution_count": null,
   "metadata": {},
   "outputs": [],
   "source": []
  }
 ],
 "metadata": {
  "interpreter": {
   "hash": "31f2aee4e71d21fbe5cf8b01ff0e069b9275f58929596ceb00d14d90e3e16cd6"
  },
  "kernelspec": {
   "display_name": "Python 3.8.9 64-bit",
   "language": "python",
   "name": "python3"
  },
  "language_info": {
   "codemirror_mode": {
    "name": "ipython",
    "version": 3
   },
   "file_extension": ".py",
   "mimetype": "text/x-python",
   "name": "python",
   "nbconvert_exporter": "python",
   "pygments_lexer": "ipython3",
   "version": "3.8.9"
  },
  "orig_nbformat": 4
 },
 "nbformat": 4,
 "nbformat_minor": 2
}
