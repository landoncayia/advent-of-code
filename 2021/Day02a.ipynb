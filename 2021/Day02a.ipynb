{
 "cells": [
  {
   "cell_type": "markdown",
   "id": "a0fc3484",
   "metadata": {},
   "source": [
    "# Day 2 - Part One"
   ]
  },
  {
   "cell_type": "code",
   "execution_count": 1,
   "id": "43f790cc",
   "metadata": {},
   "outputs": [],
   "source": [
    "from aocd import get_data\n",
    "raw_data = get_data(day=2, year=2021)"
   ]
  },
  {
   "cell_type": "code",
   "execution_count": 2,
   "id": "16efb589",
   "metadata": {},
   "outputs": [
    {
     "name": "stdout",
     "output_type": "stream",
     "text": [
      "2019945\n"
     ]
    }
   ],
   "source": [
    "def find_position() -> (int, int):\n",
    "    lines = [x for x in raw_data.strip().split('\\n')]\n",
    "    \n",
    "    forward = sum([int(i[8:]) for i in lines if 'forward' in i])\n",
    "    down = -sum([int(i[5:]) for i in lines if 'down' in i])\n",
    "    up = sum([int(i[3:]) for i in lines if 'up' in i])\n",
    "    \n",
    "    print(forward * abs(down+up))\n",
    "\n",
    "find_position()"
   ]
  },
  {
   "cell_type": "code",
   "execution_count": null,
   "id": "d46aa3ef",
   "metadata": {},
   "outputs": [],
   "source": []
  }
 ],
 "metadata": {
  "kernelspec": {
   "display_name": "Python 3 (ipykernel)",
   "language": "python",
   "name": "python3"
  },
  "language_info": {
   "codemirror_mode": {
    "name": "ipython",
    "version": 3
   },
   "file_extension": ".py",
   "mimetype": "text/x-python",
   "name": "python",
   "nbconvert_exporter": "python",
   "pygments_lexer": "ipython3",
   "version": "3.10.0"
  }
 },
 "nbformat": 4,
 "nbformat_minor": 5
}
