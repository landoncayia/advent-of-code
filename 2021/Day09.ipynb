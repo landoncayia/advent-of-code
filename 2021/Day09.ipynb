{
 "cells": [
  {
   "cell_type": "markdown",
   "id": "539c5b74",
   "metadata": {},
   "source": [
    "# Day 9 - Part One\n",
    "\n",
    "This one was not too bad. I got tripped up a bit on using `[y][x]` rather than `[x][y]`, but I was able to solve it in a decent amount of time. "
   ]
  },
  {
   "cell_type": "code",
   "execution_count": 54,
   "id": "cdb7b8a4",
   "metadata": {},
   "outputs": [],
   "source": [
    "from aocd import get_data\n",
    "raw_data = get_data(day=9, year=2021)\n",
    "\n",
    "heightmap = [[int(char) for char in row] for row in raw_data.split('\\n')]\n",
    "map_height, map_width = len(heightmap), len(heightmap[0])"
   ]
  },
  {
   "cell_type": "code",
   "execution_count": 2,
   "id": "1d277c41",
   "metadata": {},
   "outputs": [],
   "source": [
    "# Get the coordinates of the valid points adjacent to the heightmap.\n",
    "def get_adj_points(x, y):\n",
    "    adj_points = []\n",
    "    if x > 0:\n",
    "        adj_points.append((x - 1, y))\n",
    "    if x < map_width - 1:\n",
    "        adj_points.append((x + 1, y))\n",
    "    if y > 0:\n",
    "        adj_points.append((x, y - 1))\n",
    "    if y < map_height - 1:\n",
    "        adj_points.append((x, y + 1))\n",
    "    return adj_points"
   ]
  },
  {
   "cell_type": "code",
   "execution_count": 3,
   "id": "3b06dfa1",
   "metadata": {},
   "outputs": [],
   "source": [
    "# Check a point (x, y) and determine if it is a low point by examining the points next to it.\n",
    "def is_low_point(x, y):\n",
    "    height = heightmap[y][x]\n",
    "    adj_points = get_adj_points(x, y)\n",
    "    for adj_pt in adj_points:\n",
    "        x, y = adj_pt\n",
    "        if height >= heightmap[y][x]:\n",
    "            return False\n",
    "    return True"
   ]
  },
  {
   "cell_type": "code",
   "execution_count": 4,
   "id": "53bd7095",
   "metadata": {},
   "outputs": [],
   "source": [
    "# Uses the above two functions to solve the problem.\n",
    "def find_low_points():\n",
    "    sum_risk = 0\n",
    "    for y in range(len(heightmap)):\n",
    "        for x in range(len(heightmap[0])):\n",
    "            height = heightmap[y][x]\n",
    "            if is_low_point(x, y):\n",
    "                risk_level = height + 1\n",
    "                sum_risk += risk_level\n",
    "    return sum_risk"
   ]
  },
  {
   "cell_type": "code",
   "execution_count": 5,
   "id": "0662083c",
   "metadata": {},
   "outputs": [
    {
     "data": {
      "text/plain": [
       "562"
      ]
     },
     "execution_count": 5,
     "metadata": {},
     "output_type": "execute_result"
    }
   ],
   "source": [
    "find_low_points()"
   ]
  },
  {
   "cell_type": "markdown",
   "id": "451795a0",
   "metadata": {},
   "source": [
    "# Part Two\n",
    "\n",
    "For this one, I reused these functions from Part One:\n",
    "\n",
    "* `get_adj_points(x, y)`, and\n",
    "* `is_low_point(x, y)`\n",
    "\n",
    "I also slightly modified the `find_low_points()` function to return the list of low points rather than the sum of the risk levels.\n",
    "\n",
    "This one was pretty difficult for me conceptually, and I had to look things up a bit for it. I ended up using recursion, a topic that I could use some brushing-up on. This has been a fun one!"
   ]
  },
  {
   "cell_type": "code",
   "execution_count": 41,
   "id": "e017430c",
   "metadata": {},
   "outputs": [],
   "source": [
    "from math import prod"
   ]
  },
  {
   "cell_type": "code",
   "execution_count": 45,
   "id": "6b04850d",
   "metadata": {},
   "outputs": [],
   "source": [
    "# A modified version of find_low_points() that returns a list of all low points.\n",
    "def get_all_low_points():\n",
    "    low_points = []\n",
    "    for y in range(len(heightmap)):\n",
    "        for x in range(len(heightmap[0])):\n",
    "            if is_low_point(x, y):\n",
    "                low_points.append((x, y))\n",
    "    return low_points"
   ]
  },
  {
   "cell_type": "code",
   "execution_count": 46,
   "id": "6f4a7899",
   "metadata": {},
   "outputs": [],
   "source": [
    "# Determines which points adjacent to the point (x, y) are part of the current basin.\n",
    "def get_adj_basin_points(x, y):\n",
    "    adj_basin_points = []\n",
    "    adj_points = get_adj_points(x, y)\n",
    "    for adj_pt in adj_points:\n",
    "        adj_x, adj_y = adj_pt\n",
    "        height = heightmap[adj_y][adj_x]\n",
    "        if height < 9:\n",
    "            adj_basin_points.append(adj_pt)\n",
    "    return adj_basin_points"
   ]
  },
  {
   "cell_type": "code",
   "execution_count": 47,
   "id": "3a4c703d",
   "metadata": {},
   "outputs": [],
   "source": [
    "# Recursive function that gets all the basin points for a given low point.\n",
    "# Note: the reason for basin_points=None is to comply with PEP standards.\n",
    "def find_basin_points(point, basin_points=None):\n",
    "    if basin_points is None:\n",
    "        basin_points = []\n",
    "    x, y = point\n",
    "    adj_basin_points = get_adj_basin_points(x, y)\n",
    "    for adj_bp in adj_basin_points:\n",
    "        if adj_bp not in basin_points:\n",
    "            basin_points.append(adj_bp)\n",
    "            basin_points = find_basin_points(adj_bp, basin_points)\n",
    "    return basin_points\n"
   ]
  },
  {
   "cell_type": "code",
   "execution_count": 48,
   "id": "c077f5ab",
   "metadata": {},
   "outputs": [],
   "source": [
    "def find_all_basins():\n",
    "    all_basin_points = []\n",
    "    low_points = get_all_low_points()\n",
    "    for lp in low_points:\n",
    "        basin_points = find_basin_points(lp)\n",
    "        all_basin_points.append(basin_points)\n",
    "    return all_basin_points"
   ]
  },
  {
   "cell_type": "code",
   "execution_count": 55,
   "id": "890e152f",
   "metadata": {},
   "outputs": [
    {
     "name": "stdout",
     "output_type": "stream",
     "text": [
      "1076922\n"
     ]
    }
   ],
   "source": [
    "all_basin_points = find_all_basins()\n",
    "all_basin_points = sorted(all_basin_points, reverse=True, key=len)\n",
    "print(prod([len(bps) for bps in all_basin_points[:3]]))"
   ]
  }
 ],
 "metadata": {
  "kernelspec": {
   "display_name": "Python 3 (ipykernel)",
   "language": "python",
   "name": "python3"
  },
  "language_info": {
   "codemirror_mode": {
    "name": "ipython",
    "version": 3
   },
   "file_extension": ".py",
   "mimetype": "text/x-python",
   "name": "python",
   "nbconvert_exporter": "python",
   "pygments_lexer": "ipython3",
   "version": "3.10.0"
  }
 },
 "nbformat": 4,
 "nbformat_minor": 5
}
