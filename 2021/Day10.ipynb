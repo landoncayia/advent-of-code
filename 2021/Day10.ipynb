{
 "cells": [
  {
   "cell_type": "markdown",
   "metadata": {},
   "source": [
    "# Day 10 - Part One\n",
    "\n",
    "This was a pretty fun exercise. I was overthinking it a lot at first, planning to use `collections.deque` (thought it was pronounce \"dequeue\" rather than \"deck\", haha). This was until I saw a mention that a `list` is essentially a stack, with some caveats. We all love simplicity!"
   ]
  },
  {
   "cell_type": "code",
   "execution_count": 97,
   "metadata": {},
   "outputs": [],
   "source": [
    "from aocd import get_data\n",
    "raw_data = get_data(day=10, year=2021)\n",
    "syntax = raw_data.split('\\n')"
   ]
  },
  {
   "cell_type": "code",
   "execution_count": 93,
   "metadata": {},
   "outputs": [],
   "source": [
    "ERROR_SCORES = {\n",
    "    ')': 3,\n",
    "    ']': 57,\n",
    "    '}': 1197,\n",
    "    '>': 25137\n",
    "}\n",
    "\n",
    "MATCHING_SYNTAX = {\n",
    "    ')': '(',\n",
    "    ']': '[',\n",
    "    '}': '{',\n",
    "    '>': '<'\n",
    "}"
   ]
  },
  {
   "cell_type": "code",
   "execution_count": 94,
   "metadata": {},
   "outputs": [],
   "source": [
    "def find_corruption(line):\n",
    "    stack = []\n",
    "    for char in line:\n",
    "        if char in ['(', '[', '{', '<']:\n",
    "            stack.append(char)\n",
    "        else:\n",
    "            out = stack.pop()\n",
    "            if MATCHING_SYNTAX[char] != out:\n",
    "                return char\n",
    "    return None"
   ]
  },
  {
   "cell_type": "code",
   "execution_count": 95,
   "metadata": {},
   "outputs": [
    {
     "data": {
      "text/plain": [
       "344193"
      ]
     },
     "execution_count": 95,
     "metadata": {},
     "output_type": "execute_result"
    }
   ],
   "source": [
    "def calc_error_score():\n",
    "    total_error_score = 0\n",
    "    for line in syntax:\n",
    "        corruption = find_corruption(line)\n",
    "        if corruption:\n",
    "            total_error_score += ERROR_SCORES[corruption]\n",
    "    return total_error_score\n",
    "\n",
    "calc_error_score()"
   ]
  },
  {
   "cell_type": "markdown",
   "metadata": {},
   "source": [
    "# Day 10 - Part Two\n",
    "\n",
    "I had checked r/adventofcode before doing this part, and a lot of people remarked about how difficult it was. For some reason, I found this one pretty easy. Perhaps I will submit my answer there!"
   ]
  },
  {
   "cell_type": "code",
   "execution_count": 86,
   "metadata": {},
   "outputs": [],
   "source": [
    "from statistics import median"
   ]
  },
  {
   "cell_type": "code",
   "execution_count": 70,
   "metadata": {},
   "outputs": [],
   "source": [
    "AUTOCOMPLETE_SCORES = {\n",
    "    ')': 1,\n",
    "    ']': 2,\n",
    "    '}': 3,\n",
    "    '>': 4\n",
    "}\n",
    "\n",
    "AUTOCOMPLETE_SYNTAX = {\n",
    "    '(': ')',\n",
    "    '[': ']',\n",
    "    '{': '}',\n",
    "    '<': '>'\n",
    "}"
   ]
  },
  {
   "cell_type": "code",
   "execution_count": 71,
   "metadata": {},
   "outputs": [],
   "source": [
    "def remove_corrupted_lines(all_lines):\n",
    "    non_corrupted = []\n",
    "    for line in all_lines:\n",
    "        if not find_corruption(line):\n",
    "            non_corrupted.append(line)\n",
    "    return non_corrupted"
   ]
  },
  {
   "cell_type": "code",
   "execution_count": 109,
   "metadata": {},
   "outputs": [],
   "source": [
    "def fix_corruption(line):\n",
    "    stack = []\n",
    "    for char in line:\n",
    "        if char in ['(', '[', '{', '<']:\n",
    "            stack.append(char)\n",
    "        else:\n",
    "            out = stack[-1]\n",
    "            if MATCHING_SYNTAX[char] == out:\n",
    "                stack.pop()\n",
    "    completed_parts = []\n",
    "    for char in reversed(stack):\n",
    "        completed_parts.append(AUTOCOMPLETE_SYNTAX[char])\n",
    "    return completed_parts"
   ]
  },
  {
   "cell_type": "code",
   "execution_count": 110,
   "metadata": {},
   "outputs": [],
   "source": [
    "def get_score(part):\n",
    "    score = 0\n",
    "    for ch in part:\n",
    "        score *= 5\n",
    "        score += AUTOCOMPLETE_SCORES[ch]\n",
    "    return score"
   ]
  },
  {
   "cell_type": "code",
   "execution_count": 111,
   "metadata": {},
   "outputs": [
    {
     "name": "stdout",
     "output_type": "stream",
     "text": [
      "3241238967\n"
     ]
    }
   ],
   "source": [
    "incomplete_lines = remove_corrupted_lines(syntax)\n",
    "completed_parts = [fix_corruption(line) for line in incomplete_lines]\n",
    "scores = [get_score(part) for part in completed_parts]\n",
    "print(median(sorted(scores)))"
   ]
  },
  {
   "cell_type": "code",
   "execution_count": null,
   "metadata": {},
   "outputs": [],
   "source": []
  }
 ],
 "metadata": {
  "interpreter": {
   "hash": "60969510a0eb56f3ab74dc6d288678c2777c2d2bb38f49eb29a472b57bad6491"
  },
  "kernelspec": {
   "display_name": "Python 3.10.0 64-bit",
   "language": "python",
   "name": "python3"
  },
  "language_info": {
   "codemirror_mode": {
    "name": "ipython",
    "version": 3
   },
   "file_extension": ".py",
   "mimetype": "text/x-python",
   "name": "python",
   "nbconvert_exporter": "python",
   "pygments_lexer": "ipython3",
   "version": "3.10.0"
  },
  "orig_nbformat": 4
 },
 "nbformat": 4,
 "nbformat_minor": 2
}
