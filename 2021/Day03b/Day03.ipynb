{
 "cells": [
  {
   "cell_type": "markdown",
   "id": "27c37d77",
   "metadata": {},
   "source": [
    "# Day 3 - Part Two"
   ]
  },
  {
   "cell_type": "code",
   "execution_count": 51,
   "id": "231b1f7f",
   "metadata": {},
   "outputs": [
    {
     "name": "stdout",
     "output_type": "stream",
     "text": [
      "001100111001 110100101111\n"
     ]
    },
    {
     "data": {
      "text/plain": [
       "2784375"
      ]
     },
     "execution_count": 51,
     "metadata": {},
     "output_type": "execute_result"
    }
   ],
   "source": [
    "from statistics import multimode\n",
    "from copy import deepcopy\n",
    "\n",
    "def search(diag, sensor):\n",
    "    lst = deepcopy(diag)\n",
    "    for i in range(len(lst[0])+1):\n",
    "        if len(lst) == 1:\n",
    "            return lst[0]\n",
    "        else:\n",
    "            diag_pos = [binary[i] for binary in lst]\n",
    "            modes = multimode(diag_pos)\n",
    "            if len(modes) > 1:\n",
    "                mode_i = '1'\n",
    "            else:\n",
    "                mode_i = modes[0]\n",
    "            if sensor == 'o2':\n",
    "                lst = [j for j in lst if j[i] == mode_i]\n",
    "            else:  # sensor == 'co2'\n",
    "                lst = [j for j in lst if j[i] != mode_i]\n",
    "            \n",
    "\n",
    "def calc_support() -> int:\n",
    "    with open('input.txt', 'r') as data:\n",
    "        diagnostic = [x.strip() for x in data.readlines()]\n",
    "    \n",
    "    o2_rating = search(diagnostic, 'o2')\n",
    "    co2_rating = search(diagnostic, 'co2')\n",
    "    \n",
    "    print(o2_rating, co2_rating)\n",
    "    \n",
    "    o2_dec = int(bin(int(o2_rating, 2)), 2)\n",
    "    co2_dec = int(bin(int(co2_rating, 2)), 2)\n",
    "    \n",
    "    return(o2_dec * co2_dec)\n",
    "\n",
    "calc_support()"
   ]
  }
 ],
 "metadata": {
  "kernelspec": {
   "display_name": "Python 3 (ipykernel)",
   "language": "python",
   "name": "python3"
  },
  "language_info": {
   "codemirror_mode": {
    "name": "ipython",
    "version": 3
   },
   "file_extension": ".py",
   "mimetype": "text/x-python",
   "name": "python",
   "nbconvert_exporter": "python",
   "pygments_lexer": "ipython3",
   "version": "3.10.0"
  }
 },
 "nbformat": 4,
 "nbformat_minor": 5
}
