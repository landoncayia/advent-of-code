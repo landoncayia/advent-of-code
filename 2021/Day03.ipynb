{
 "cells": [
  {
   "cell_type": "markdown",
   "id": "9b98bd69",
   "metadata": {},
   "source": [
    "# Day 3 - Part One"
   ]
  },
  {
   "cell_type": "code",
   "execution_count": 1,
   "id": "1931cc1d",
   "metadata": {},
   "outputs": [],
   "source": [
    "from aocd import get_data\n",
    "raw_data = get_data(day=3, year=2021)"
   ]
  },
  {
   "cell_type": "code",
   "execution_count": 2,
   "id": "231b1f7f",
   "metadata": {},
   "outputs": [
    {
     "data": {
      "text/plain": [
       "2583164"
      ]
     },
     "execution_count": 2,
     "metadata": {},
     "output_type": "execute_result"
    }
   ],
   "source": [
    "from statistics import mode\n",
    "\n",
    "def calc_power() -> int:\n",
    "    diagnostic = [x for x in raw_data.strip().split('\\n')]\n",
    "        \n",
    "    gamma_rate = ''\n",
    "    epsilon_rate = ''\n",
    "    \n",
    "    for i in range(len(diagnostic[0])):\n",
    "        lst = [binary[i] for binary in diagnostic]\n",
    "        if mode(lst) == '1':\n",
    "            gamma_rate += '1'\n",
    "            epsilon_rate += '0'\n",
    "        else:\n",
    "            gamma_rate += '0'\n",
    "            epsilon_rate += '1'\n",
    "    \n",
    "    gamma_dec = int(bin(int(gamma_rate, 2)), 2)\n",
    "    epsilon_dec = int(bin(int(epsilon_rate, 2)), 2)\n",
    "    \n",
    "    return(gamma_dec * epsilon_dec)\n",
    "\n",
    "calc_power()"
   ]
  },
  {
   "cell_type": "markdown",
   "id": "27c37d77",
   "metadata": {},
   "source": [
    "# Day 3 - Part Two"
   ]
  },
  {
   "cell_type": "code",
   "execution_count": 3,
   "id": "4ebccf54",
   "metadata": {},
   "outputs": [],
   "source": [
    "from aocd import get_data\n",
    "raw_data = get_data(day=3, year=2021)"
   ]
  },
  {
   "cell_type": "code",
   "execution_count": 4,
   "id": "231b1f7f",
   "metadata": {},
   "outputs": [
    {
     "name": "stdout",
     "output_type": "stream",
     "text": [
      "001100111001 110100101111\n"
     ]
    },
    {
     "data": {
      "text/plain": [
       "2784375"
      ]
     },
     "execution_count": 4,
     "metadata": {},
     "output_type": "execute_result"
    }
   ],
   "source": [
    "from statistics import multimode\n",
    "from copy import deepcopy\n",
    "\n",
    "def search(diag, sensor):\n",
    "    lst = deepcopy(diag)\n",
    "    for i in range(len(lst[0])+1):\n",
    "        if len(lst) == 1:\n",
    "            return lst[0]\n",
    "        else:\n",
    "            diag_pos = [binary[i] for binary in lst]\n",
    "            modes = multimode(diag_pos)\n",
    "            if len(modes) > 1:\n",
    "                mode_i = '1'\n",
    "            else:\n",
    "                mode_i = modes[0]\n",
    "            if sensor == 'o2':\n",
    "                lst = [j for j in lst if j[i] == mode_i]\n",
    "            else:  # sensor == 'co2'\n",
    "                lst = [j for j in lst if j[i] != mode_i]\n",
    "            \n",
    "\n",
    "def calc_support() -> int:\n",
    "    diagnostic = [x for x in raw_data.strip().split('\\n')]\n",
    "    \n",
    "    o2_rating = search(diagnostic, 'o2')\n",
    "    co2_rating = search(diagnostic, 'co2')\n",
    "    \n",
    "    print(o2_rating, co2_rating)\n",
    "    \n",
    "    o2_dec = int(bin(int(o2_rating, 2)), 2)\n",
    "    co2_dec = int(bin(int(co2_rating, 2)), 2)\n",
    "    \n",
    "    return(o2_dec * co2_dec)\n",
    "\n",
    "calc_support()"
   ]
  },
  {
   "cell_type": "code",
   "execution_count": null,
   "id": "8754f114",
   "metadata": {},
   "outputs": [],
   "source": []
  }
 ],
 "metadata": {
  "kernelspec": {
   "display_name": "Python 3 (ipykernel)",
   "language": "python",
   "name": "python3"
  },
  "language_info": {
   "codemirror_mode": {
    "name": "ipython",
    "version": 3
   },
   "file_extension": ".py",
   "mimetype": "text/x-python",
   "name": "python",
   "nbconvert_exporter": "python",
   "pygments_lexer": "ipython3",
   "version": "3.10.0"
  }
 },
 "nbformat": 4,
 "nbformat_minor": 5
}
