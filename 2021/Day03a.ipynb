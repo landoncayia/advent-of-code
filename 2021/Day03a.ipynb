{
 "cells": [
  {
   "cell_type": "markdown",
   "id": "9b98bd69",
   "metadata": {},
   "source": [
    "# Day 3 - Part One"
   ]
  },
  {
   "cell_type": "code",
   "execution_count": 1,
   "id": "1931cc1d",
   "metadata": {},
   "outputs": [],
   "source": [
    "from aocd import get_data\n",
    "raw_data = get_data(day=3, year=2021)"
   ]
  },
  {
   "cell_type": "code",
   "execution_count": 2,
   "id": "231b1f7f",
   "metadata": {},
   "outputs": [
    {
     "data": {
      "text/plain": [
       "2583164"
      ]
     },
     "execution_count": 2,
     "metadata": {},
     "output_type": "execute_result"
    }
   ],
   "source": [
    "from statistics import mode\n",
    "\n",
    "def calc_power() -> int:\n",
    "    diagnostic = [x for x in raw_data.strip().split('\\n')]\n",
    "        \n",
    "    gamma_rate = ''\n",
    "    epsilon_rate = ''\n",
    "    \n",
    "    for i in range(len(diagnostic[0])):\n",
    "        lst = [binary[i] for binary in diagnostic]\n",
    "        if mode(lst) == '1':\n",
    "            gamma_rate += '1'\n",
    "            epsilon_rate += '0'\n",
    "        else:\n",
    "            gamma_rate += '0'\n",
    "            epsilon_rate += '1'\n",
    "    \n",
    "    gamma_dec = int(bin(int(gamma_rate, 2)), 2)\n",
    "    epsilon_dec = int(bin(int(epsilon_rate, 2)), 2)\n",
    "    \n",
    "    return(gamma_dec * epsilon_dec)\n",
    "\n",
    "calc_power()"
   ]
  },
  {
   "cell_type": "code",
   "execution_count": null,
   "id": "2ac4a444",
   "metadata": {},
   "outputs": [],
   "source": []
  }
 ],
 "metadata": {
  "kernelspec": {
   "display_name": "Python 3 (ipykernel)",
   "language": "python",
   "name": "python3"
  },
  "language_info": {
   "codemirror_mode": {
    "name": "ipython",
    "version": 3
   },
   "file_extension": ".py",
   "mimetype": "text/x-python",
   "name": "python",
   "nbconvert_exporter": "python",
   "pygments_lexer": "ipython3",
   "version": "3.10.0"
  }
 },
 "nbformat": 4,
 "nbformat_minor": 5
}
