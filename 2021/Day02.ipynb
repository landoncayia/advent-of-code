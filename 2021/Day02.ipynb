{
 "cells": [
  {
   "cell_type": "markdown",
   "id": "a0fc3484",
   "metadata": {},
   "source": [
    "# Day 2 - Part One"
   ]
  },
  {
   "cell_type": "code",
   "execution_count": 1,
   "id": "43f790cc",
   "metadata": {},
   "outputs": [],
   "source": [
    "from aocd import get_data\n",
    "raw_data = get_data(day=2, year=2021)"
   ]
  },
  {
   "cell_type": "code",
   "execution_count": 2,
   "id": "16efb589",
   "metadata": {},
   "outputs": [
    {
     "name": "stdout",
     "output_type": "stream",
     "text": [
      "2019945\n"
     ]
    }
   ],
   "source": [
    "def find_position() -> (int, int):\n",
    "    lines = [x for x in raw_data.strip().split('\\n')]\n",
    "    \n",
    "    forward = sum([int(i[8:]) for i in lines if 'forward' in i])\n",
    "    down = -sum([int(i[5:]) for i in lines if 'down' in i])\n",
    "    up = sum([int(i[3:]) for i in lines if 'up' in i])\n",
    "    \n",
    "    print(forward * abs(down+up))\n",
    "\n",
    "find_position()"
   ]
  },
  {
   "cell_type": "markdown",
   "id": "43fa0a80",
   "metadata": {},
   "source": [
    "# Day 2 - Part Two"
   ]
  },
  {
   "cell_type": "code",
   "execution_count": 3,
   "id": "6e9c770f",
   "metadata": {},
   "outputs": [],
   "source": [
    "from aocd import get_data\n",
    "raw_data = get_data(day=2, year=2021)"
   ]
  },
  {
   "cell_type": "code",
   "execution_count": 4,
   "id": "16efb589",
   "metadata": {},
   "outputs": [
    {
     "name": "stdout",
     "output_type": "stream",
     "text": [
      "1599311480\n"
     ]
    }
   ],
   "source": [
    "def find_position() -> (int, int):\n",
    "    lines = [x for x in raw_data.strip().split('\\n')]\n",
    "        \n",
    "    aim = 0\n",
    "    depth = 0\n",
    "    horizontal = 0\n",
    "    \n",
    "    for i in lines:\n",
    "        if 'down' in i:  # increase aim by i\n",
    "            aim += int(i[5:])\n",
    "        if 'up' in i:  # decrease aim by i\n",
    "            aim -= int(i[3:])\n",
    "        if 'forward' in i:  # increase xpos by i & increase depth by aim * i\n",
    "            horizontal += int(i[8:])\n",
    "            depth += aim * int(i[8:])\n",
    "    \n",
    "    print(horizontal * depth)\n",
    "\n",
    "find_position()"
   ]
  },
  {
   "cell_type": "code",
   "execution_count": null,
   "id": "07f1dc20",
   "metadata": {},
   "outputs": [],
   "source": []
  }
 ],
 "metadata": {
  "kernelspec": {
   "display_name": "Python 3 (ipykernel)",
   "language": "python",
   "name": "python3"
  },
  "language_info": {
   "codemirror_mode": {
    "name": "ipython",
    "version": 3
   },
   "file_extension": ".py",
   "mimetype": "text/x-python",
   "name": "python",
   "nbconvert_exporter": "python",
   "pygments_lexer": "ipython3",
   "version": "3.10.0"
  }
 },
 "nbformat": 4,
 "nbformat_minor": 5
}
