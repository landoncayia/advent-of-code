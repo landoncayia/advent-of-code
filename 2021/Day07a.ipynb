{
 "cells": [
  {
   "cell_type": "markdown",
   "id": "a7efd85d",
   "metadata": {},
   "source": [
    "# Day 7 - Part One"
   ]
  },
  {
   "cell_type": "code",
   "execution_count": 6,
   "id": "a8d9485b",
   "metadata": {},
   "outputs": [],
   "source": [
    "from aocd import get_data\n",
    "raw_data = get_data(day=7, year=2021)\n",
    "crabs = [int(x) for x in raw_data.strip().split(',')]"
   ]
  },
  {
   "cell_type": "code",
   "execution_count": 15,
   "id": "11e11de8",
   "metadata": {},
   "outputs": [],
   "source": [
    "def get_optimal_pos(crabs):\n",
    "    # return median of crab positions\n",
    "    return(sorted(crabs)[len(crabs) // 2])"
   ]
  },
  {
   "cell_type": "code",
   "execution_count": 18,
   "id": "c01d8537",
   "metadata": {},
   "outputs": [],
   "source": [
    "def calc_fuel_cost(crabs, opt_pos):\n",
    "    return sum(list(map(lambda pos: abs(pos - opt_pos), crabs)))"
   ]
  },
  {
   "cell_type": "code",
   "execution_count": 19,
   "id": "c431f638",
   "metadata": {},
   "outputs": [
    {
     "data": {
      "text/plain": [
       "359648"
      ]
     },
     "execution_count": 19,
     "metadata": {},
     "output_type": "execute_result"
    }
   ],
   "source": [
    "optimal_pos = get_optimal_pos(crabs)\n",
    "calc_fuel_cost(crabs, optimal_pos)"
   ]
  }
 ],
 "metadata": {
  "kernelspec": {
   "display_name": "Python 3 (ipykernel)",
   "language": "python",
   "name": "python3"
  },
  "language_info": {
   "codemirror_mode": {
    "name": "ipython",
    "version": 3
   },
   "file_extension": ".py",
   "mimetype": "text/x-python",
   "name": "python",
   "nbconvert_exporter": "python",
   "pygments_lexer": "ipython3",
   "version": "3.10.0"
  }
 },
 "nbformat": 4,
 "nbformat_minor": 5
}
