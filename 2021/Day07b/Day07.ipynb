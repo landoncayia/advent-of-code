{
 "cells": [
  {
   "cell_type": "markdown",
   "id": "a7efd85d",
   "metadata": {},
   "source": [
    "# Day 7 - Part Two\n",
    "\n",
    "Thanks to u/throwaway7824365346 for [his or her paper on the mean](https://www.reddit.com/gallery/rawxad) in terms of Part Two!\n",
    "\n",
    "This one was a lot of fun, but I had to research a bit for how to figure out Part Two. I highly recommend giving that paper linked above a read."
   ]
  },
  {
   "cell_type": "code",
   "execution_count": 1,
   "id": "9b343b3f",
   "metadata": {},
   "outputs": [],
   "source": [
    "from aocd import get_data\n",
    "from statistics import mean, median\n",
    "from math import floor, ceil\n",
    "raw_data = get_data(day=7, year=2021)\n",
    "crabs = [int(x) for x in raw_data.strip().split(',')]"
   ]
  },
  {
   "cell_type": "code",
   "execution_count": 2,
   "id": "11e11de8",
   "metadata": {},
   "outputs": [],
   "source": [
    "def get_optimal_pos(crabs):\n",
    "    # \n",
    "    # https://www.reddit.com/gallery/rawxad\n",
    "    # We must use floor or ceiling depending on a few things.\n",
    "    m = mean(crabs)\n",
    "    length = len(crabs)\n",
    "    k = len([n for n in crabs if n < m])\n",
    "    frac_m = m % 1\n",
    "    if frac_m > (2*k-1)/2*length:\n",
    "        return ceil(m)\n",
    "    else:\n",
    "        return floor(m)"
   ]
  },
  {
   "cell_type": "code",
   "execution_count": 3,
   "id": "c01d8537",
   "metadata": {},
   "outputs": [],
   "source": [
    "def calc_fuel_cost(crabs, opt_pos):\n",
    "    distances = list(map(lambda pos: abs(pos - opt_pos), crabs))\n",
    "    return round(sum([(d*(d + 1)/2) for d in distances]))"
   ]
  },
  {
   "cell_type": "code",
   "execution_count": 4,
   "id": "c431f638",
   "metadata": {},
   "outputs": [
    {
     "data": {
      "text/plain": [
       "100727924"
      ]
     },
     "execution_count": 4,
     "metadata": {},
     "output_type": "execute_result"
    }
   ],
   "source": [
    "optimal_pos = get_optimal_pos(crabs)\n",
    "calc_fuel_cost(crabs, optimal_pos)"
   ]
  },
  {
   "cell_type": "code",
   "execution_count": null,
   "id": "9ee48c4b",
   "metadata": {},
   "outputs": [],
   "source": []
  }
 ],
 "metadata": {
  "kernelspec": {
   "display_name": "Python 3 (ipykernel)",
   "language": "python",
   "name": "python3"
  },
  "language_info": {
   "codemirror_mode": {
    "name": "ipython",
    "version": 3
   },
   "file_extension": ".py",
   "mimetype": "text/x-python",
   "name": "python",
   "nbconvert_exporter": "python",
   "pygments_lexer": "ipython3",
   "version": "3.10.0"
  }
 },
 "nbformat": 4,
 "nbformat_minor": 5
}
