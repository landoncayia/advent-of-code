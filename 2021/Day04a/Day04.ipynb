{
 "cells": [
  {
   "cell_type": "code",
   "execution_count": 1,
   "id": "a2f1fef1",
   "metadata": {},
   "outputs": [],
   "source": [
    "import aocd\n",
    "import numpy as np"
   ]
  },
  {
   "cell_type": "code",
   "execution_count": 2,
   "id": "475d05f7",
   "metadata": {},
   "outputs": [],
   "source": [
    "class BingoCard:\n",
    "    def __init__(self, numbers: np.array):\n",
    "        self.numbers = numbers\n",
    "        self.entire_set = set(numbers.flatten())\n",
    "        self.marked = set()\n",
    "        \n",
    "    def get_numbers(self):\n",
    "        return self.numbers\n",
    "    \n",
    "    def get_unmarked(self):\n",
    "        return self.entire_set.difference(self.marked)\n",
    "    \n",
    "    def mark(self, n):\n",
    "        self.marked.add(n)\n",
    "    \n",
    "    def check_for_win(self):\n",
    "        # Check columns and rows for each index\n",
    "        for i in range(len(self.numbers)):\n",
    "            if all([j in self.marked for j in self.numbers[i]]) or \\\n",
    "                all([j in self.marked for j in self.numbers[:, i]]):\n",
    "                return True\n",
    "        return False"
   ]
  },
  {
   "cell_type": "code",
   "execution_count": 3,
   "id": "74bb265f",
   "metadata": {},
   "outputs": [],
   "source": [
    "def find_first(draws, cards):\n",
    "    for draw in iter([int(i) for i in draws.split(',')]):\n",
    "        for card in card_list:\n",
    "            card.mark(draw)\n",
    "            if card.check_for_win():\n",
    "                return card, draw"
   ]
  },
  {
   "cell_type": "code",
   "execution_count": 4,
   "id": "89e93949",
   "metadata": {},
   "outputs": [],
   "source": [
    "# Setup\n",
    "raw_data = aocd.get_data(day=4, year=2021)\n",
    "clean_data = raw_data.split('\\n\\n')\n",
    "draws, raw_cards = clean_data[0], clean_data[1:]\n",
    "card_list = []\n",
    "for card in raw_cards:\n",
    "    rows = card.split('\\n')\n",
    "    card_arr = np.array([[int(num) for num in row.split()] for row in rows])\n",
    "    new_card = BingoCard(card_arr)\n",
    "    card_list.append(new_card)"
   ]
  },
  {
   "cell_type": "code",
   "execution_count": 5,
   "id": "1b20685e",
   "metadata": {},
   "outputs": [],
   "source": [
    "winning_card, winning_draw = find_first(draws, card_list)\n",
    "\n",
    "winning_unmarked = winning_card.get_unmarked()\n",
    "score = sum(winning_unmarked) * winning_draw"
   ]
  },
  {
   "cell_type": "code",
   "execution_count": 6,
   "id": "a6b9abde",
   "metadata": {},
   "outputs": [
    {
     "name": "stdout",
     "output_type": "stream",
     "text": [
      "41668\n"
     ]
    }
   ],
   "source": [
    "print(score)"
   ]
  },
  {
   "cell_type": "code",
   "execution_count": null,
   "id": "3f3fb860",
   "metadata": {},
   "outputs": [],
   "source": []
  }
 ],
 "metadata": {
  "kernelspec": {
   "display_name": "Python 3 (ipykernel)",
   "language": "python",
   "name": "python3"
  },
  "language_info": {
   "codemirror_mode": {
    "name": "ipython",
    "version": 3
   },
   "file_extension": ".py",
   "mimetype": "text/x-python",
   "name": "python",
   "nbconvert_exporter": "python",
   "pygments_lexer": "ipython3",
   "version": "3.10.0"
  }
 },
 "nbformat": 4,
 "nbformat_minor": 5
}
