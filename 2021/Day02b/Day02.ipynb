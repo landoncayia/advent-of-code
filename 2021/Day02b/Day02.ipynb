{
 "cells": [
  {
   "cell_type": "code",
   "execution_count": 3,
   "id": "16efb589",
   "metadata": {},
   "outputs": [
    {
     "name": "stdout",
     "output_type": "stream",
     "text": [
      "1599311480\n"
     ]
    }
   ],
   "source": [
    "def find_position() -> (int, int):\n",
    "    with open('input.txt', 'r') as data:\n",
    "        lines = [x.strip() for x in data.readlines()]\n",
    "        \n",
    "    aim = 0\n",
    "    depth = 0\n",
    "    horizontal = 0\n",
    "    \n",
    "    for i in lines:\n",
    "        if 'down' in i:  # increase aim by i\n",
    "            aim += int(i[5:])\n",
    "        if 'up' in i:  # decrease aim by i\n",
    "            aim -= int(i[3:])\n",
    "        if 'forward' in i:  # increase xpos by i & increase depth by aim * i\n",
    "            horizontal += int(i[8:])\n",
    "            depth += aim * int(i[8:])\n",
    "    \n",
    "    print(horizontal * depth)\n",
    "\n",
    "find_position()"
   ]
  }
 ],
 "metadata": {
  "kernelspec": {
   "display_name": "Python 3 (ipykernel)",
   "language": "python",
   "name": "python3"
  },
  "language_info": {
   "codemirror_mode": {
    "name": "ipython",
    "version": 3
   },
   "file_extension": ".py",
   "mimetype": "text/x-python",
   "name": "python",
   "nbconvert_exporter": "python",
   "pygments_lexer": "ipython3",
   "version": "3.10.0"
  }
 },
 "nbformat": 4,
 "nbformat_minor": 5
}
