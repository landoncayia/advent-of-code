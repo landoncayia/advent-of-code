{
 "cells": [
  {
   "cell_type": "markdown",
   "id": "20691ce9",
   "metadata": {},
   "source": [
    "# Day 1 - Part Two"
   ]
  },
  {
   "cell_type": "code",
   "execution_count": 7,
   "id": "aedb76ff",
   "metadata": {},
   "outputs": [
    {
     "data": {
      "text/plain": [
       "1737"
      ]
     },
     "execution_count": 7,
     "metadata": {},
     "output_type": "execute_result"
    }
   ],
   "source": [
    "def count_increases() -> int:\n",
    "    with open('input.txt', 'r') as data:\n",
    "        lines = [x.strip() for x in data.readlines()]\n",
    "    \n",
    "    count = 0\n",
    "    \n",
    "    lst = []\n",
    "\n",
    "    for i in lines:\n",
    "        lst.append(int(i))\n",
    "        \n",
    "    n = 3  # group size\n",
    "    m = 2  # overlap size\n",
    "    \n",
    "    sum_lst = [sum(lst[i:i+n]) for i in range(0, len(lst)-1, n-m)]\n",
    "    \n",
    "    for i, j in enumerate(sum_lst[:-1]):\n",
    "        if j < sum_lst[i+1]:\n",
    "            count += 1\n",
    "    \n",
    "    return count\n",
    "\n",
    "count_increases()"
   ]
  }
 ],
 "metadata": {
  "kernelspec": {
   "display_name": "Python 3 (ipykernel)",
   "language": "python",
   "name": "python3"
  },
  "language_info": {
   "codemirror_mode": {
    "name": "ipython",
    "version": 3
   },
   "file_extension": ".py",
   "mimetype": "text/x-python",
   "name": "python",
   "nbconvert_exporter": "python",
   "pygments_lexer": "ipython3",
   "version": "3.10.0"
  }
 },
 "nbformat": 4,
 "nbformat_minor": 5
}
