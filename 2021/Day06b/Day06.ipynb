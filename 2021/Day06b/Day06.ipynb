{
 "cells": [
  {
   "cell_type": "markdown",
   "id": "fd9703c8",
   "metadata": {},
   "source": [
    "# Day 6 - Part Two\n",
    "\n",
    "After taking a naive approach for Part One, I quickly learned that my silly ol' Lanternfish class was not going to cut it. I utterly failed, my PC's memory maxing out after several minutes.\n",
    "\n",
    "I went to Reddit for this solution, but I think that is okay because I learned something worthwhile:\n",
    "\n",
    "> When presented with a programming problem, optimization must always be considered. The naive approach is not safe to implement for any serious application.\n",
    "\n",
    "This was *such* a fun exercise."
   ]
  },
  {
   "cell_type": "code",
   "execution_count": 1,
   "id": "c19a1a39",
   "metadata": {},
   "outputs": [],
   "source": [
    "from aocd import get_data\n",
    "raw_data = get_data(day=6, year=2021)"
   ]
  },
  {
   "cell_type": "code",
   "execution_count": 2,
   "id": "2d4eef9d",
   "metadata": {},
   "outputs": [],
   "source": [
    "def count_fish(data, days):\n",
    "    totals = [data.count(i) for i in range(9)]\n",
    "    for day in range(days):\n",
    "        totals[(day + 7) % 9] += totals[day % 9]\n",
    "    return sum(totals)"
   ]
  },
  {
   "cell_type": "code",
   "execution_count": 3,
   "id": "fd30b543",
   "metadata": {},
   "outputs": [
    {
     "name": "stdout",
     "output_type": "stream",
     "text": [
      "396210\n",
      "1770823541496\n"
     ]
    }
   ],
   "source": [
    "fish_pool = [int(f) for f in raw_data.split(',')]\n",
    "print(count_fish(fish_pool, 80))\n",
    "print(count_fish(fish_pool, 256))"
   ]
  },
  {
   "cell_type": "code",
   "execution_count": null,
   "id": "d5251803",
   "metadata": {},
   "outputs": [],
   "source": []
  }
 ],
 "metadata": {
  "kernelspec": {
   "display_name": "Python 3 (ipykernel)",
   "language": "python",
   "name": "python3"
  },
  "language_info": {
   "codemirror_mode": {
    "name": "ipython",
    "version": 3
   },
   "file_extension": ".py",
   "mimetype": "text/x-python",
   "name": "python",
   "nbconvert_exporter": "python",
   "pygments_lexer": "ipython3",
   "version": "3.10.0"
  }
 },
 "nbformat": 4,
 "nbformat_minor": 5
}
