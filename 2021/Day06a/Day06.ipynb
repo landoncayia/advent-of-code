{
 "cells": [
  {
   "cell_type": "markdown",
   "id": "fd9703c8",
   "metadata": {},
   "source": [
    "# Day 6 - Part One\n",
    "\n",
    "Like many others, I did Part One of this exercise with a naive approach. I tried to have a little fun and made a Lanternfish class."
   ]
  },
  {
   "cell_type": "code",
   "execution_count": 1,
   "id": "c19a1a39",
   "metadata": {},
   "outputs": [],
   "source": [
    "from aocd import get_data\n",
    "raw_data = get_data(day=6, year=2021)"
   ]
  },
  {
   "cell_type": "code",
   "execution_count": 2,
   "id": "04854bcf",
   "metadata": {},
   "outputs": [],
   "source": [
    "class Lanternfish:\n",
    "    def __init__(self, timer):\n",
    "        self.timer = timer\n",
    "    \n",
    "    def does_spawn(self):\n",
    "        if self.timer == 0:\n",
    "            return True\n",
    "        else:\n",
    "            return False\n",
    "        \n",
    "    def pass_day(self):\n",
    "        if self.timer == 0:\n",
    "            self.timer = 6\n",
    "        else:\n",
    "            self.timer -= 1"
   ]
  },
  {
   "cell_type": "code",
   "execution_count": 3,
   "id": "2d4eef9d",
   "metadata": {},
   "outputs": [],
   "source": [
    "DAYS = 80\n",
    "\n",
    "fish_pool = [Lanternfish(int(f)) for f in raw_data.split(',')]\n",
    "for day in range(DAYS):\n",
    "    num_fish_spawning = 0\n",
    "    for fish in fish_pool:\n",
    "        if fish.does_spawn():\n",
    "            num_fish_spawning += 1\n",
    "        fish.pass_day()\n",
    "    for n in range(num_fish_spawning):\n",
    "        fish_pool.append(Lanternfish(8))"
   ]
  },
  {
   "cell_type": "code",
   "execution_count": 4,
   "id": "fd30b543",
   "metadata": {},
   "outputs": [
    {
     "name": "stdout",
     "output_type": "stream",
     "text": [
      "396210\n"
     ]
    }
   ],
   "source": [
    "print(len(fish_pool))"
   ]
  },
  {
   "cell_type": "code",
   "execution_count": null,
   "id": "cbf6f8e8",
   "metadata": {},
   "outputs": [],
   "source": []
  }
 ],
 "metadata": {
  "kernelspec": {
   "display_name": "Python 3 (ipykernel)",
   "language": "python",
   "name": "python3"
  },
  "language_info": {
   "codemirror_mode": {
    "name": "ipython",
    "version": 3
   },
   "file_extension": ".py",
   "mimetype": "text/x-python",
   "name": "python",
   "nbconvert_exporter": "python",
   "pygments_lexer": "ipython3",
   "version": "3.10.0"
  }
 },
 "nbformat": 4,
 "nbformat_minor": 5
}
