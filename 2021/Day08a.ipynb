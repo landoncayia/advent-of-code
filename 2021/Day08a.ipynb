{
 "cells": [
  {
   "cell_type": "markdown",
   "id": "d38bca61",
   "metadata": {},
   "source": [
    "# Day 8 - Part One"
   ]
  },
  {
   "cell_type": "code",
   "execution_count": 1,
   "id": "566322fb",
   "metadata": {},
   "outputs": [],
   "source": [
    "from aocd import get_data\n",
    "raw_data = get_data(day=8, year=2021)\n",
    "data = [x for x in raw_data.strip().split('\\n')]"
   ]
  },
  {
   "cell_type": "code",
   "execution_count": 2,
   "id": "93a08d57",
   "metadata": {},
   "outputs": [],
   "source": [
    "sep_parts = [x.split('|') for x in data]\n",
    "signals = [x[0].strip() for x in sep_parts]\n",
    "outputs = [x[1].strip() for x in sep_parts]"
   ]
  },
  {
   "cell_type": "code",
   "execution_count": 3,
   "id": "8b4acab2",
   "metadata": {},
   "outputs": [],
   "source": [
    "digit_counts = {}\n",
    "for output in outputs:\n",
    "    for part in output.split():\n",
    "        if len(part) not in digit_counts:\n",
    "            digit_counts[len(part)] = 0\n",
    "        digit_counts[len(part)] += 1"
   ]
  },
  {
   "cell_type": "code",
   "execution_count": 5,
   "id": "bbd66b56",
   "metadata": {},
   "outputs": [
    {
     "name": "stdout",
     "output_type": "stream",
     "text": [
      "519\n"
     ]
    }
   ],
   "source": [
    "print(sum([digit_counts[2], digit_counts[4], digit_counts[3], digit_counts[7]]))"
   ]
  },
  {
   "cell_type": "code",
   "execution_count": null,
   "id": "a5177818",
   "metadata": {},
   "outputs": [],
   "source": []
  }
 ],
 "metadata": {
  "kernelspec": {
   "display_name": "Python 3 (ipykernel)",
   "language": "python",
   "name": "python3"
  },
  "language_info": {
   "codemirror_mode": {
    "name": "ipython",
    "version": 3
   },
   "file_extension": ".py",
   "mimetype": "text/x-python",
   "name": "python",
   "nbconvert_exporter": "python",
   "pygments_lexer": "ipython3",
   "version": "3.10.0"
  }
 },
 "nbformat": 4,
 "nbformat_minor": 5
}
