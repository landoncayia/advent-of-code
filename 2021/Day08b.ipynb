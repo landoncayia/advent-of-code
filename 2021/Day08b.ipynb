{
 "cells": [
  {
   "cell_type": "markdown",
   "id": "d38bca61",
   "metadata": {},
   "source": [
    "# Day 8 - Part One\n",
    "\n",
    "This one was really difficult and required a \"creative\" solution ( :/ )."
   ]
  },
  {
   "cell_type": "code",
   "execution_count": 1,
   "id": "566322fb",
   "metadata": {},
   "outputs": [],
   "source": [
    "from aocd import get_data\n",
    "raw_data = get_data(day=8, year=2021)\n",
    "data = [x for x in raw_data.strip().split('\\n')]"
   ]
  },
  {
   "cell_type": "code",
   "execution_count": 2,
   "id": "93a08d57",
   "metadata": {},
   "outputs": [],
   "source": [
    "LENGTH_TO_DIGIT = {\n",
    "    2: (1, ),\n",
    "    3: (7, ),\n",
    "    4: (4, ),\n",
    "    5: (2, 3, 5),\n",
    "    6: (0, 6, 9),\n",
    "    7: (8, )\n",
    "}\n",
    "\n",
    "sep_parts = [x.split('|') for x in data]\n",
    "signals = [x[0].strip() for x in sep_parts]\n",
    "outputs = [x[1].strip() for x in sep_parts]"
   ]
  },
  {
   "cell_type": "code",
   "execution_count": 3,
   "id": "8b4acab2",
   "metadata": {},
   "outputs": [],
   "source": [
    "output_total = 0\n",
    "\n",
    "for (signal, output) in zip(signals, outputs):\n",
    "    candidates = [[] for _ in range(10)]\n",
    "    digit_letters = {key: set() for key in range(10)}\n",
    "    for part in signal.split():\n",
    "        for digit in LENGTH_TO_DIGIT[len(part)]:\n",
    "            candidates[digit].append(set(part))\n",
    "    \n",
    "    # 1, 4, 7, and 8 have unique numbers of segments\n",
    "    digit_letters[1] = candidates[1][0]\n",
    "    digit_letters[4] = candidates[4][0]\n",
    "    digit_letters[7] = candidates[3][0]\n",
    "    digit_letters[8] = candidates[7][0]\n",
    "    \n",
    "    # 2, 5, 6 must not contain both segments of 1\n",
    "    for i in (2, 5, 6):\n",
    "        candidates[i] = [c for c in candidates[i] if not digit_letters[1].issubset((c))]\n",
    "    \n",
    "    # The intersection of 5 and 4 must have length 3\n",
    "    candidates[5] = [c for c in candidates[5] if len(c & candidates[4][0]) == 3]\n",
    "    \n",
    "    # Since 2 now contains either 2 or 5, remove the intersection between 2 and 5\n",
    "    candidates[2] = [c for c in candidates[2] if c & candidates[5][0] != c]\n",
    "    \n",
    "    # Take 4 chunk out of 9 and check if length is 2\n",
    "    candidates[9] = [c for c in candidates[9] if len(c - candidates[4][0]) == 2]\n",
    "    \n",
    "    # Take 9 chunk out of 3 and check if empty; also remove 5 since we know it\n",
    "    candidates[3] = [c for c in candidates[3] if not(c - candidates[9][0]) and not(c == candidates[5][0])]\n",
    "    \n",
    "    # Remove candidates for 6 and 9 from 0\n",
    "    candidates[0] = [c for c in candidates[0] if not(c == candidates[6][0]) and not(c == candidates[9][0])]\n",
    "    \n",
    "    digits_list = []\n",
    "    \n",
    "    for output_part in output.split():\n",
    "        output_part = set(output_part)\n",
    "        for d in range(len(candidates)):\n",
    "            if output_part == candidates[d][0]:\n",
    "                digits_list.append(d)\n",
    "                break\n",
    "    \n",
    "    this_sum = 0\n",
    "    \n",
    "    for digit, weight in zip(digits_list, iter([1000, 100, 10, 1])):\n",
    "        this_sum += digit * weight\n",
    "    \n",
    "    output_total += this_sum"
   ]
  },
  {
   "cell_type": "code",
   "execution_count": 4,
   "id": "70701078",
   "metadata": {},
   "outputs": [
    {
     "name": "stdout",
     "output_type": "stream",
     "text": [
      "a 1000\n",
      "b 100\n",
      "c 10\n",
      "d 1\n"
     ]
    }
   ],
   "source": [
    "for i, j in zip(['a', 'b', 'c', 'd'], iter([1000, 100, 10, 1])):\n",
    "    print(i, j)"
   ]
  },
  {
   "cell_type": "code",
   "execution_count": 5,
   "id": "ea2f3977",
   "metadata": {},
   "outputs": [
    {
     "name": "stdout",
     "output_type": "stream",
     "text": [
      "dbfea bcaefdg dcfgeb ag bfceag egfcda becfg fgeba gcab ega | agbfecd aedfcgb gcba ga\n"
     ]
    }
   ],
   "source": [
    "print(signal, '|', output)"
   ]
  },
  {
   "cell_type": "code",
   "execution_count": 6,
   "id": "0aac476d",
   "metadata": {},
   "outputs": [
    {
     "name": "stdout",
     "output_type": "stream",
     "text": [
      "1027483\n"
     ]
    }
   ],
   "source": [
    "print(output_total)"
   ]
  },
  {
   "cell_type": "code",
   "execution_count": null,
   "id": "cb188f29",
   "metadata": {},
   "outputs": [],
   "source": []
  }
 ],
 "metadata": {
  "kernelspec": {
   "display_name": "Python 3 (ipykernel)",
   "language": "python",
   "name": "python3"
  },
  "language_info": {
   "codemirror_mode": {
    "name": "ipython",
    "version": 3
   },
   "file_extension": ".py",
   "mimetype": "text/x-python",
   "name": "python",
   "nbconvert_exporter": "python",
   "pygments_lexer": "ipython3",
   "version": "3.10.0"
  }
 },
 "nbformat": 4,
 "nbformat_minor": 5
}
