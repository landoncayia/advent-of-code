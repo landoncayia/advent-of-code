{
 "cells": [
  {
   "cell_type": "markdown",
   "metadata": {},
   "source": [
    "# Day 11 - Part One\n",
    "\n",
    "Took a while, but got it using plenty of functions! These ended up proving useful for Part Two."
   ]
  },
  {
   "cell_type": "code",
   "execution_count": 216,
   "metadata": {},
   "outputs": [],
   "source": [
    "from aocd import get_data\n",
    "raw_data = get_data(day=11, year=2021)\n",
    "octo_grid = [[int(octo) for octo in row] for row in raw_data.split('\\n')]\n",
    "grid_height, grid_width = len(octo_grid), len(octo_grid[0])\n",
    "# Keeps track of whether each octo has flashed during the current iteration; 0 is no, 1 is yes\n",
    "flash_record = [[0 for _ in range(grid_width)] for _ in range(grid_height)]\n",
    "NUM_STEPS = 100"
   ]
  },
  {
   "cell_type": "code",
   "execution_count": 217,
   "metadata": {},
   "outputs": [],
   "source": [
    "# Finds the (x, y) coordinates of the eight octos adjacent to the octo at the point (x, y) (including diagonal octos)\n",
    "def get_adj_octos(x, y):\n",
    "    adj_octos = []\n",
    "    if x > 0:\n",
    "        # Append center-left octo\n",
    "        adj_octos.append((x - 1, y))\n",
    "        if y > 0:\n",
    "            # Append upper-left octo\n",
    "            adj_octos.append((x - 1, y - 1))\n",
    "        if y < grid_height - 1:\n",
    "            # Append lower-left octo\n",
    "            adj_octos.append((x - 1, y + 1))\n",
    "    if x < grid_width - 1:\n",
    "        # Append center-right octo\n",
    "        adj_octos.append((x + 1, y))\n",
    "        if y > 0:\n",
    "            # Append upper-right octo\n",
    "            adj_octos.append((x + 1, y - 1))\n",
    "        if y < grid_height - 1:\n",
    "            # Append lower-right octo\n",
    "            adj_octos.append((x + 1, y + 1))\n",
    "    if y > 0:\n",
    "        # Append center-upper octo\n",
    "        adj_octos.append((x, y - 1))\n",
    "    if y < grid_height - 1:\n",
    "        # Append center-lower octo\n",
    "        adj_octos.append((x, y + 1))\n",
    "    return adj_octos"
   ]
  },
  {
   "cell_type": "code",
   "execution_count": 218,
   "metadata": {},
   "outputs": [],
   "source": [
    "# Causes an octo to flash, also causing any adjacent octos with energy levels greater than 9 to flash recursively.\n",
    "# Returns the total number of flashes that occurred as a result of the original flash.\n",
    "def octo_flash(x, y, flashes=None):\n",
    "    global flash_record\n",
    "    if flashes is None:\n",
    "        flashes = 1\n",
    "    # The given octo flashes, falling back down to an energy level of 0\n",
    "    octo_grid[y][x] = 0\n",
    "    flash_record[y][x] = 1\n",
    "    # Get adjacent octos and raise their energy levels by 1\n",
    "    adj_octos = get_adj_octos(x, y)\n",
    "    for octo in adj_octos:\n",
    "        adj_x, adj_y = octo\n",
    "        if not has_flashed(adj_x, adj_y):\n",
    "            octo_grid[adj_y][adj_x] += 1\n",
    "    return flashes"
   ]
  },
  {
   "cell_type": "code",
   "execution_count": 219,
   "metadata": {},
   "outputs": [],
   "source": [
    "def has_flashed(x, y):\n",
    "    # Check if the current octo has already flashed this iteration\n",
    "    global flash_record\n",
    "    return bool(flash_record[y][x])"
   ]
  },
  {
   "cell_type": "code",
   "execution_count": 220,
   "metadata": {},
   "outputs": [],
   "source": [
    "def execute_step():\n",
    "    num_flashes = 0\n",
    "    # Reset flash record for this step\n",
    "    global flash_record\n",
    "    flash_record = [[0 for _ in range(grid_width)] for _ in range(grid_height)]\n",
    "    for y in range(len(octo_grid)):\n",
    "        for x in range(len(octo_grid[0])):\n",
    "            octo_grid[y][x] += 1\n",
    "    octos_will_flash = True\n",
    "    while octos_will_flash:\n",
    "        # Assume octos are done flashing\n",
    "        octos_will_flash = False\n",
    "        for y in range(len(octo_grid)):\n",
    "            for x in range(len(octo_grid[0])):\n",
    "                if octo_grid[y][x] > 9 and not has_flashed(x, y):\n",
    "                    # If another one flashes, we will be going again\n",
    "                    octos_will_flash = True\n",
    "                    num_flashes += octo_flash(x, y)\n",
    "    return num_flashes"
   ]
  },
  {
   "cell_type": "code",
   "execution_count": 221,
   "metadata": {},
   "outputs": [],
   "source": [
    "def display_grid(octos):\n",
    "    for row in octos:\n",
    "        for col in row:\n",
    "            print(col, end=' ')\n",
    "        print()"
   ]
  },
  {
   "cell_type": "code",
   "execution_count": 222,
   "metadata": {},
   "outputs": [],
   "source": [
    "def reset_grid():\n",
    "    global octo_grid, grid_height, grid_width\n",
    "    octo_grid = [[int(octo) for octo in row] for row in raw_data.split('\\n')]\n",
    "    grid_height, grid_width = len(octo_grid), len(octo_grid[0])"
   ]
  },
  {
   "cell_type": "code",
   "execution_count": 223,
   "metadata": {},
   "outputs": [],
   "source": [
    "def reset_flash_record():\n",
    "    global flash_record\n",
    "    flash_record = [[0 for _ in range(grid_width)] for _ in range(grid_height)]"
   ]
  },
  {
   "cell_type": "code",
   "execution_count": 211,
   "metadata": {},
   "outputs": [
    {
     "data": {
      "text/plain": [
       "1617"
      ]
     },
     "execution_count": 211,
     "metadata": {},
     "output_type": "execute_result"
    }
   ],
   "source": [
    "total_flashes = 0\n",
    "reset_grid()\n",
    "reset_flash_record()\n",
    "for i in range(NUM_STEPS):\n",
    "    total_flashes += execute_step()\n",
    "total_flashes"
   ]
  },
  {
   "cell_type": "markdown",
   "metadata": {},
   "source": [
    "# Day 11 - Part Two\n",
    "\n",
    "The way I wrote Part One made Part Two a lot easier, by maintaining a flash record. I just checked for which step they are all 1."
   ]
  },
  {
   "cell_type": "code",
   "execution_count": 214,
   "metadata": {},
   "outputs": [],
   "source": [
    "def all_octos_flashed():\n",
    "    all_flashed = True\n",
    "    for y in range(len(flash_record)):\n",
    "        for x in range(len(flash_record[0])):\n",
    "            if flash_record[y][x] != 1:\n",
    "                all_flashed = False\n",
    "    return all_flashed"
   ]
  },
  {
   "cell_type": "code",
   "execution_count": 224,
   "metadata": {},
   "outputs": [
    {
     "data": {
      "text/plain": [
       "258"
      ]
     },
     "execution_count": 224,
     "metadata": {},
     "output_type": "execute_result"
    }
   ],
   "source": [
    "steps_required = 0\n",
    "reset_grid()\n",
    "reset_flash_record()\n",
    "while True:\n",
    "    steps_required += 1\n",
    "    flashes = execute_step()\n",
    "    if all_octos_flashed():\n",
    "        break\n",
    "steps_required"
   ]
  },
  {
   "cell_type": "code",
   "execution_count": null,
   "metadata": {},
   "outputs": [],
   "source": []
  }
 ],
 "metadata": {
  "interpreter": {
   "hash": "60969510a0eb56f3ab74dc6d288678c2777c2d2bb38f49eb29a472b57bad6491"
  },
  "kernelspec": {
   "display_name": "Python 3.10.0 64-bit",
   "language": "python",
   "name": "python3"
  },
  "language_info": {
   "codemirror_mode": {
    "name": "ipython",
    "version": 3
   },
   "file_extension": ".py",
   "mimetype": "text/x-python",
   "name": "python",
   "nbconvert_exporter": "python",
   "pygments_lexer": "ipython3",
   "version": "3.10.0"
  },
  "orig_nbformat": 4
 },
 "nbformat": 4,
 "nbformat_minor": 2
}
